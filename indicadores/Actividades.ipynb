{
  "nbformat": 4,
  "nbformat_minor": 0,
  "metadata": {
    "colab": {
      "provenance": [],
      "authorship_tag": "ABX9TyNNM+uz0PilYqAYajQSjHui",
      "include_colab_link": true
    },
    "kernelspec": {
      "name": "python3",
      "display_name": "Python 3"
    },
    "language_info": {
      "name": "python"
    }
  },
  "cells": [
    {
      "cell_type": "markdown",
      "metadata": {
        "id": "view-in-github",
        "colab_type": "text"
      },
      "source": [
        "<a href=\"https://colab.research.google.com/github/sharop/CD3001B/blob/main/indicadores/Actividades.ipynb\" target=\"_parent\"><img src=\"https://colab.research.google.com/assets/colab-badge.svg\" alt=\"Open In Colab\"/></a>"
      ]
    },
    {
      "cell_type": "code",
      "source": [
        "!pip install nashpy"
      ],
      "metadata": {
        "colab": {
          "base_uri": "https://localhost:8080/"
        },
        "id": "ah9-tS3IzB3I",
        "outputId": "01032a10-86a9-4e49-afce-ee7271fc79a9"
      },
      "execution_count": 4,
      "outputs": [
        {
          "output_type": "stream",
          "name": "stdout",
          "text": [
            "Looking in indexes: https://pypi.org/simple, https://us-python.pkg.dev/colab-wheels/public/simple/\n",
            "Collecting nashpy\n",
            "  Downloading nashpy-0.0.36-py3-none-any.whl (25 kB)\n",
            "Requirement already satisfied: scipy>=0.19.0 in /usr/local/lib/python3.8/dist-packages (from nashpy) (1.7.3)\n",
            "Requirement already satisfied: numpy>=1.21.0 in /usr/local/lib/python3.8/dist-packages (from nashpy) (1.22.4)\n",
            "Installing collected packages: nashpy\n",
            "Successfully installed nashpy-0.0.36\n"
          ]
        }
      ]
    },
    {
      "cell_type": "code",
      "execution_count": 5,
      "metadata": {
        "colab": {
          "base_uri": "https://localhost:8080/"
        },
        "id": "GGn09q1rvAHy",
        "outputId": "571f7b46-c8be-4681-f308-6bceaef2fa90"
      },
      "outputs": [
        {
          "output_type": "stream",
          "name": "stdout",
          "text": [
            "Equilibrio de Nash encontrado: (array([1., 0.]), array([1., 0.]))\n",
            "Equilibrio de Nash encontrado: (array([0., 1.]), array([0., 1.]))\n",
            "Equilibrio de Nash encontrado: (array([0.25, 0.75]), array([0.25, 0.75]))\n"
          ]
        }
      ],
      "source": [
        "import nashpy as nash\n",
        "import numpy as np\n",
        "\n",
        "A = np.array([[3, 1], [0, 2]])\n",
        "B = np.array([[3, 0], [1, 2]])\n",
        "\n",
        "game = nash.Game(A, B)\n",
        "equilibria = game.support_enumeration()\n",
        "\n",
        "for eq in equilibria:\n",
        "    print(\"Equilibrio de Nash encontrado:\", eq)\n",
        "\n"
      ]
    },
    {
      "cell_type": "code",
      "source": [],
      "metadata": {
        "id": "eBCdAkTLy-9I"
      },
      "execution_count": null,
      "outputs": []
    },
    {
      "cell_type": "markdown",
      "source": [],
      "metadata": {
        "id": "ihUAuhp-88EJ"
      }
    },
    {
      "cell_type": "markdown",
      "source": [
        "# Ejemplo 1: empresa de ventas en linea"
      ],
      "metadata": {
        "id": "BXExH8k01GG-"
      }
    },
    {
      "cell_type": "markdown",
      "source": [
        "Supongamos que eres el gerente de ventas de una empresa y quieres diseñar un conjunto de KPIs para tus vendedores. Sabes que la empresa tiene tres productos principales: A, B y C, y que cada uno de ellos tiene un margen de beneficio diferente. También sabes que hay dos tipos de clientes: los que compran solo un producto y los que compran dos o tres productos al mismo tiempo.\n",
        "\n",
        "Para diseñar los KPIs, decides utilizar un árbol de decisión para modelar las diferentes opciones que tienen los vendedores al momento de atender a los clientes y la teoría de juegos para encontrar la mejor estrategia para cada tipo de cliente. El árbol de decisión podría lucir así:\n"
      ],
      "metadata": {
        "id": "uP2r9esc1K7l"
      }
    },
    {
      "cell_type": "markdown",
      "source": [
        "                       Tipo de cliente\n",
        "                          /       \\\n",
        "              Compra un producto   Compra varios productos\n",
        "                  /             \\\n",
        "          Producto A         Dos o más productos\n",
        "                                  /     |     \\\n",
        "                              A + B   A + C   B + C\n"
      ],
      "metadata": {
        "id": "YdfbqeAM8N7J"
      }
    },
    {
      "cell_type": "markdown",
      "source": [
        "En este árbol de decisión, el vendedor primero debe determinar el tipo de cliente con el que está tratando. Si es un cliente que compra solo un producto, entonces debe decidir qué producto ofrecerle. Si es un cliente que compra varios productos, entonces debe decidir qué combinación de productos ofrecerle.\n",
        "\n",
        "Para determinar la mejor estrategia para cada tipo de cliente, podemos utilizar la teoría de juegos. Por ejemplo, si el vendedor sabe que el margen de beneficio de A es mayor que el de B o C, entonces podría ofrecer primero el producto A a los clientes que compran solo un producto. Si el cliente quiere comprar dos o tres productos, el vendedor podría ofrecer la combinación A + B o A + C, dependiendo de cuál tenga el mayor margen de beneficio."
      ],
      "metadata": {
        "id": "ssc5LIpr8aXM"
      }
    },
    {
      "cell_type": "code",
      "source": [
        "from sklearn.tree import DecisionTreeClassifier\n",
        "\n",
        "# Creamos el conjunto de datos de entrenamiento\n",
        "X = [[1, 0], [1, 0], [1, 0], [0, 1], [0, 1], [0, 1], [1, 2], [2, 1], [2, 0], [0, 2], [2, 2]]\n",
        "y = ['A', 'A', 'A', 'B', 'B', 'B', 'C', 'C', 'C', 'AB', 'BC']\n",
        "\n"
      ],
      "metadata": {
        "id": "YrBQlRuY8Z-W"
      },
      "execution_count": 2,
      "outputs": []
    },
    {
      "cell_type": "code",
      "source": [
        "# Creamos el árbol de decisión y lo entrenamos\n",
        "clf = DecisionTreeClassifier()\n",
        "clf.fit(X, y)\n",
        "\n"
      ],
      "metadata": {
        "colab": {
          "base_uri": "https://localhost:8080/",
          "height": 75
        },
        "id": "RctWFFA08Qag",
        "outputId": "1ce2d1a6-5d63-42dd-f000-f3a5d7a91e67"
      },
      "execution_count": 3,
      "outputs": [
        {
          "output_type": "execute_result",
          "data": {
            "text/plain": [
              "DecisionTreeClassifier()"
            ],
            "text/html": [
              "<style>#sk-container-id-1 {color: black;background-color: white;}#sk-container-id-1 pre{padding: 0;}#sk-container-id-1 div.sk-toggleable {background-color: white;}#sk-container-id-1 label.sk-toggleable__label {cursor: pointer;display: block;width: 100%;margin-bottom: 0;padding: 0.3em;box-sizing: border-box;text-align: center;}#sk-container-id-1 label.sk-toggleable__label-arrow:before {content: \"▸\";float: left;margin-right: 0.25em;color: #696969;}#sk-container-id-1 label.sk-toggleable__label-arrow:hover:before {color: black;}#sk-container-id-1 div.sk-estimator:hover label.sk-toggleable__label-arrow:before {color: black;}#sk-container-id-1 div.sk-toggleable__content {max-height: 0;max-width: 0;overflow: hidden;text-align: left;background-color: #f0f8ff;}#sk-container-id-1 div.sk-toggleable__content pre {margin: 0.2em;color: black;border-radius: 0.25em;background-color: #f0f8ff;}#sk-container-id-1 input.sk-toggleable__control:checked~div.sk-toggleable__content {max-height: 200px;max-width: 100%;overflow: auto;}#sk-container-id-1 input.sk-toggleable__control:checked~label.sk-toggleable__label-arrow:before {content: \"▾\";}#sk-container-id-1 div.sk-estimator input.sk-toggleable__control:checked~label.sk-toggleable__label {background-color: #d4ebff;}#sk-container-id-1 div.sk-label input.sk-toggleable__control:checked~label.sk-toggleable__label {background-color: #d4ebff;}#sk-container-id-1 input.sk-hidden--visually {border: 0;clip: rect(1px 1px 1px 1px);clip: rect(1px, 1px, 1px, 1px);height: 1px;margin: -1px;overflow: hidden;padding: 0;position: absolute;width: 1px;}#sk-container-id-1 div.sk-estimator {font-family: monospace;background-color: #f0f8ff;border: 1px dotted black;border-radius: 0.25em;box-sizing: border-box;margin-bottom: 0.5em;}#sk-container-id-1 div.sk-estimator:hover {background-color: #d4ebff;}#sk-container-id-1 div.sk-parallel-item::after {content: \"\";width: 100%;border-bottom: 1px solid gray;flex-grow: 1;}#sk-container-id-1 div.sk-label:hover label.sk-toggleable__label {background-color: #d4ebff;}#sk-container-id-1 div.sk-serial::before {content: \"\";position: absolute;border-left: 1px solid gray;box-sizing: border-box;top: 0;bottom: 0;left: 50%;z-index: 0;}#sk-container-id-1 div.sk-serial {display: flex;flex-direction: column;align-items: center;background-color: white;padding-right: 0.2em;padding-left: 0.2em;position: relative;}#sk-container-id-1 div.sk-item {position: relative;z-index: 1;}#sk-container-id-1 div.sk-parallel {display: flex;align-items: stretch;justify-content: center;background-color: white;position: relative;}#sk-container-id-1 div.sk-item::before, #sk-container-id-1 div.sk-parallel-item::before {content: \"\";position: absolute;border-left: 1px solid gray;box-sizing: border-box;top: 0;bottom: 0;left: 50%;z-index: -1;}#sk-container-id-1 div.sk-parallel-item {display: flex;flex-direction: column;z-index: 1;position: relative;background-color: white;}#sk-container-id-1 div.sk-parallel-item:first-child::after {align-self: flex-end;width: 50%;}#sk-container-id-1 div.sk-parallel-item:last-child::after {align-self: flex-start;width: 50%;}#sk-container-id-1 div.sk-parallel-item:only-child::after {width: 0;}#sk-container-id-1 div.sk-dashed-wrapped {border: 1px dashed gray;margin: 0 0.4em 0.5em 0.4em;box-sizing: border-box;padding-bottom: 0.4em;background-color: white;}#sk-container-id-1 div.sk-label label {font-family: monospace;font-weight: bold;display: inline-block;line-height: 1.2em;}#sk-container-id-1 div.sk-label-container {text-align: center;}#sk-container-id-1 div.sk-container {/* jupyter's `normalize.less` sets `[hidden] { display: none; }` but bootstrap.min.css set `[hidden] { display: none !important; }` so we also need the `!important` here to be able to override the default hidden behavior on the sphinx rendered scikit-learn.org. See: https://github.com/scikit-learn/scikit-learn/issues/21755 */display: inline-block !important;position: relative;}#sk-container-id-1 div.sk-text-repr-fallback {display: none;}</style><div id=\"sk-container-id-1\" class=\"sk-top-container\"><div class=\"sk-text-repr-fallback\"><pre>DecisionTreeClassifier()</pre><b>In a Jupyter environment, please rerun this cell to show the HTML representation or trust the notebook. <br />On GitHub, the HTML representation is unable to render, please try loading this page with nbviewer.org.</b></div><div class=\"sk-container\" hidden><div class=\"sk-item\"><div class=\"sk-estimator sk-toggleable\"><input class=\"sk-toggleable__control sk-hidden--visually\" id=\"sk-estimator-id-1\" type=\"checkbox\" checked><label for=\"sk-estimator-id-1\" class=\"sk-toggleable__label sk-toggleable__label-arrow\">DecisionTreeClassifier</label><div class=\"sk-toggleable__content\"><pre>DecisionTreeClassifier()</pre></div></div></div></div></div>"
            ]
          },
          "metadata": {},
          "execution_count": 3
        }
      ]
    },
    {
      "cell_type": "code",
      "source": [
        "# Probamos el modelo con un ejemplo\n",
        "print(clf.predict([[1, 0]]))  # Salida: ['A']"
      ],
      "metadata": {
        "colab": {
          "base_uri": "https://localhost:8080/"
        },
        "id": "3LwGskIq1eOs",
        "outputId": "e8dde1ac-0d47-46b5-9557-bca016f91fa6"
      },
      "execution_count": 5,
      "outputs": [
        {
          "output_type": "stream",
          "name": "stdout",
          "text": [
            "['A']\n"
          ]
        }
      ]
    },
    {
      "cell_type": "markdown",
      "source": [
        "Este modelo toma como entrada una matriz X que representa el tipo de cliente y los productos que quiere comprar, y una lista y que representa la mejor estrategia para cada combinación de cliente y producto. El árbol de decisión se entrena con estos datos y se puede utilizar para predecir la mejor estrategia para un nuevo cliente."
      ],
      "metadata": {
        "id": "w7Cm6zZn8vh2"
      }
    },
    {
      "cell_type": "code",
      "source": [],
      "metadata": {
        "id": "ME9NNnLR8uYM"
      },
      "execution_count": null,
      "outputs": []
    },
    {
      "cell_type": "markdown",
      "source": [
        "# Arboles de decisión"
      ],
      "metadata": {
        "id": "ZxZ1MhvA8_Iw"
      }
    },
    {
      "cell_type": "markdown",
      "source": [
        "CASO EJEMPLO: Como gerente de marketing, desea un conjunto de clientes que tengan más probabilidades de comprar su producto. Así es como puede ahorrar su presupuesto de marketing al encontrar su audiencia. Como administrador de préstamos, debe identificar las solicitudes de préstamos riesgosas para lograr una tasa de incumplimiento de préstamos más baja. Este proceso de clasificar a los clientes en un grupo de clientes potenciales y no potenciales o solicitudes de préstamo seguras o riesgosas se conoce como problema de clasificación.\n",
        "\n",
        "La clasificación es un proceso de dos pasos; un paso de aprendizaje y un paso de predicción. En el paso de aprendizaje, el modelo se desarrolla en base a datos de entrenamiento dados. En el paso de predicción, el modelo se utiliza para predecir la respuesta a los datos dados. Un árbol de decisión es uno de los algoritmos de clasificación más fáciles y populares utilizados para comprender e interpretar datos. Se puede utilizar tanto para problemas de clasificación como de regresión."
      ],
      "metadata": {
        "id": "SKBrwqQH9Cij"
      }
    },
    {
      "cell_type": "markdown",
      "source": [
        "## El algoritmo del árbol de decisión\n",
        "Un árbol de decisión es una estructura jerárquica similar a un diagrama de flujo, donde cada nodo interno representa una característica o atributo, cada rama representa una regla de decisión y cada nodo hoja representa un resultado o una acción. El nodo superior de un árbol de decisión se conoce como nodo raíz.\n",
        "\n",
        "El árbol de decisión aprende a particionar el conjunto de datos en base al valor del atributo seleccionado y lo hace de manera recursiva mediante la llamada partición recursiva. Esta estructura similar a un diagrama de flujo se utiliza para facilitar la toma de decisiones. Debido a su sencilla visualización, como si fuera un diagrama de flujo, los árboles de decisión son fáciles de entender e interpretar, lo que los hace muy útiles en el análisis y la toma de decisiones en diversos campos.\n",
        "\n",
        "![](https://res.cloudinary.com/dyd911kmh/image/upload/v1677504957/decision_tree_for_heart_attack_prevention_2140bd762d.png)\n",
        "\n",
        "Un árbol de decisión es un tipo de algoritmo de Machine Learning que permite entender cómo se toman las decisiones internamente. A diferencia de otros algoritmos, como las redes neuronales, su entrenamiento es más rápido. La complejidad de los árboles de decisión depende del tamaño de los datos que se usan y son una buena opción para manejar datos con muchas variables. Además, no requieren asumir una distribución de probabilidad específica. Los árboles de decisión pueden manejar grandes cantidades de datos con alta precisión."
      ],
      "metadata": {
        "id": "AnADEwXt9tyF"
      }
    },
    {
      "cell_type": "markdown",
      "source": [
        "## ¿Cómo funciona?\n",
        "El algoritmo del árbol de decisión funciona siguiendo los siguientes pasos:\n",
        "\n",
        "1. Selecciona el mejor atributo para dividir el conjunto de datos utilizando medidas de selección de atributos (ASM).\n",
        "2. Convierte ese atributo en un nodo de decisión y divide el conjunto de datos en subconjuntos más pequeños.\n",
        "3. Repite este proceso recursivamente para cada subconjunto hasta que se cumpla una de estas condiciones:\n",
        "* Todas las tuplas pertenecen al mismo valor de atributo.\n",
        "* No quedan más atributos para dividir.\n",
        "* No hay más instancias en el subconjunto.\n",
        "\n",
        "El objetivo del árbol de decisión es construir una estructura jerárquica que permita tomar decisiones de manera eficiente y precisa. Siguiendo estos pasos, el árbol se va construyendo de forma recursiva, dividiendo el conjunto de datos en subconjuntos más pequeños, hasta llegar a los nodos hoja, donde se toma la decisión final."
      ],
      "metadata": {
        "id": "JBO9sOcn-feW"
      }
    },
    {
      "cell_type": "code",
      "source": [],
      "metadata": {
        "id": "q6brDM4o9qVN"
      },
      "execution_count": null,
      "outputs": []
    },
    {
      "cell_type": "code",
      "source": [],
      "metadata": {
        "id": "FsnCpB0I9CBC"
      },
      "execution_count": null,
      "outputs": []
    },
    {
      "cell_type": "markdown",
      "source": [],
      "metadata": {
        "id": "miAS1BFZ8jry"
      }
    }
  ]
}