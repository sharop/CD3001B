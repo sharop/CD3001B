{
 "cells": [
  {
   "cell_type": "code",
   "execution_count": 2,
   "id": "42189bf6-0bc8-4caa-ad59-c89d0574e627",
   "metadata": {
    "tags": []
   },
   "outputs": [],
   "source": [
    "import pandas as pd\n",
    "import xgboost\n",
    "from sklearn.model_selection import train_test_split\n",
    "import random\n",
    "import matplotlib.pyplot as plt"
   ]
  },
  {
   "cell_type": "code",
   "execution_count": 3,
   "id": "7fb576a0-89a9-4dd1-b1a5-863507225390",
   "metadata": {
    "tags": []
   },
   "outputs": [],
   "source": [
    "# leer datos\n",
    "df = pd.read_csv('./../creditRisk_creditCardFraud/data_fraude.csv')"
   ]
  },
  {
   "cell_type": "code",
   "execution_count": 4,
   "id": "b4feb5c3-923c-4505-a5c4-553c7e456203",
   "metadata": {},
   "outputs": [],
   "source": [
    "# pre-process datos (si es necesario)\n",
    "df = df.rename(columns={'0.1':'Class'}).\\\n",
    "drop('Unnamed: 0',axis=1)\n",
    "\n",
    "yvar = df.Class\n",
    "xvars = df[[x for x in df.columns if x != 'Class']]"
   ]
  },
  {
   "cell_type": "code",
   "execution_count": 5,
   "id": "1be3fbec-15d0-4d06-8a1a-e288de66db11",
   "metadata": {
    "tags": []
   },
   "outputs": [],
   "source": [
    "# dividir train / test para variables independientes (x)  y dependiente (y)\n",
    "xtrain, xtest, ytrain, ytest = train_test_split(xvars, yvar, train_size = 0.80, random_state = 2)"
   ]
  },
  {
   "cell_type": "code",
   "execution_count": 6,
   "id": "7e4a92c3-640c-42cf-a131-454d77713ad7",
   "metadata": {
    "tags": []
   },
   "outputs": [],
   "source": [
    "# crear matrices de xgboost\n",
    "\n",
    "trainXGB = xgboost.DMatrix(data=xtrain,\n",
    "                           label=ytrain)\n",
    "\n",
    "testXGB = xgboost.DMatrix(data=xtest,\n",
    "                          label=ytest)"
   ]
  },
  {
   "cell_type": "code",
   "execution_count": 21,
   "id": "890024d7-9c04-45ab-8710-012822419c6f",
   "metadata": {
    "tags": []
   },
   "outputs": [],
   "source": [
    "def findXGB(trainXGB,\n",
    "           testXGB,\n",
    "           iters):\n",
    "    \n",
    "    # iniciar el valor de la metrica del cual partimos (alto para metricas que queremos reducir\n",
    "    # y viceversa\n",
    "    \n",
    "    best_metric = 0\n",
    "    best_params = {}\n",
    "    \n",
    "    # muestrear numeros de forma aleatoria (dentro de un rango) para los hyperparámetros \n",
    "    # cada iteracion \n",
    "    \n",
    "    for iteration in range(iters):\n",
    "\n",
    "        params = {\n",
    "                'tree_method' : 'exact',\n",
    "                'booster' : 'gbtree', # 'gblinear'\n",
    "                'eta' : random.uniform(0.01, 0.3),\n",
    "                'max_depth' : random.randint(5,14),\n",
    "                'reg_lambda' : random.uniform(0.01, 0.4),\n",
    "                'reg_alpha' : random.uniform(0.01, 0.4),\n",
    "                'gamma' : random.randint(0, 20),\n",
    "                'subsample' : random.uniform(0.5, 1),\n",
    "                'colsample_bytree' : random.uniform(0.5, 1),\n",
    "                'objective' : 'binary:logistic',\n",
    "                'eval_metric' : 'auc'\n",
    "            }\n",
    "    \n",
    "    # ajustar un modelo utilizando validacion cruzada para probar los hiperparámetros en\n",
    "    # todas las regiones de los datos de entrenamiento\n",
    "    \n",
    "        xgb_cv = xgboost.cv(\n",
    "            params = params, \n",
    "            dtrain = trainXGB, \n",
    "               nfold=10,\n",
    "               metrics={'auc'}, \n",
    "               seed=0,\n",
    "               callbacks=[xgboost.callback.EvaluationMonitor(show_stdv=True),\n",
    "                          xgboost.callback.EarlyStopping(2)])\n",
    " \n",
    "    # registrar la metrica\n",
    "    \n",
    "        auc = xgb_cv.iloc[-1,2]\n",
    "    \n",
    "    # si la metrica alcanzada fuera mejor que la actual, reemplazar la actual  y guardar los\n",
    "    # hiperparámetros del modelo que llegó a ella.\n",
    "    # Nota : la metrica debe ser menor si se esta reduciendo (ej rmse) o mayor si se esta aumentando (ej auc)\n",
    "    \n",
    "        if auc > best_metric:\n",
    "\n",
    "            best_metric = auc\n",
    "            best_params = params\n",
    "    \n",
    "    # Ajustar un modelo final con los mejores hiperparámetros, probándolo ahora en el test set\n",
    "    \n",
    "    final_model = xgboost.XGBClassifier( \n",
    "        eval_metric='auc',\n",
    "        early_stopping_rounds=2,\n",
    "        n_estimators=1000000)\n",
    "\n",
    "    final_model.set_params(**best_params)\n",
    "\n",
    "    final_model.fit(\n",
    "        X=xtrain,\n",
    "        y=ytrain,\n",
    "        eval_set = [(xtrain, ytrain),(xtest, ytest)]\n",
    "    )\n",
    "    \n",
    "    return final_model"
   ]
  },
  {
   "cell_type": "code",
   "execution_count": null,
   "id": "419f166d-3700-421b-86ae-bcf1ccf2d29b",
   "metadata": {
    "tags": []
   },
   "outputs": [],
   "source": [
    "# correr la funcion\n",
    "finalXGB = findXGB(trainXGB, testXGB, iters=10)"
   ]
  },
  {
   "cell_type": "code",
   "execution_count": 35,
   "id": "61673a0e-8799-4279-ab56-238fd7b261ad",
   "metadata": {
    "tags": []
   },
   "outputs": [
    {
     "data": {
      "image/png": "[encoded data removed]",
      "text/plain": [
       "<Figure size 1200x400 with 1 Axes>"
      ]
     },
     "metadata": {},
     "output_type": "display_data"
    }
   ],
   "source": [
    "# visualize metrics \n",
    "\n",
    "results = finalXGB.evals_result_\n",
    "fig, ax = plt.subplots(figsize=(12,4))\n",
    "ax.plot(range(len(results['validation_0']['auc'])), results['validation_0']['auc'], label='train auc')\n",
    "ax.plot(range(len(results['validation_1']['auc'])), results['validation_1']['auc'], label='test auc')\n",
    "ax.legend()\n",
    "plt.ylabel(\"auc\")\n",
    "plt.title('AUC at Training')\n",
    "plt.show()"
   ]
  }
 ],
 "metadata": {
  "kernelspec": {
   "display_name": "Python 3 (ipykernel)",
   "language": "python",
   "name": "python3"
  },
  "language_info": {
   "codemirror_mode": {
    "name": "ipython",
    "version": 3
   },
   "file_extension": ".py",
   "mimetype": "text/x-python",
   "name": "python",
   "nbconvert_exporter": "python",
   "pygments_lexer": "ipython3",
   "version": "3.11.2"
  }
 },
 "nbformat": 4,
 "nbformat_minor": 5
}
