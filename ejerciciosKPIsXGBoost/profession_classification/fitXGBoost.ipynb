{
 "cells": [
  {
   "cell_type": "code",
   "execution_count": 1,
   "id": "42189bf6-0bc8-4caa-ad59-c89d0574e627",
   "metadata": {
    "tags": []
   },
   "outputs": [],
   "source": [
    "import pandas as pd\n",
    "import xgboost\n",
    "from sklearn.model_selection import train_test_split\n",
    "import random"
   ]
  },
  {
   "cell_type": "code",
   "execution_count": 2,
   "id": "7fb576a0-89a9-4dd1-b1a5-863507225390",
   "metadata": {
    "tags": []
   },
   "outputs": [],
   "source": [
    "df = pd.read_csv('./../creditRisk_creditCardFraud/data_fraude.csv')"
   ]
  },
  {
   "cell_type": "code",
   "execution_count": 3,
   "id": "b4feb5c3-923c-4505-a5c4-553c7e456203",
   "metadata": {},
   "outputs": [],
   "source": [
    "# leer datos y pre-process\n",
    "df = df.rename(columns={'0.1':'Class'}).\\\n",
    "drop('Unnamed: 0',axis=1)\n",
    "\n",
    "yvar = df.Class\n",
    "xvars = df[[x for x in df.columns if x != 'Class']]"
   ]
  },
  {
   "cell_type": "code",
   "execution_count": 4,
   "id": "1be3fbec-15d0-4d06-8a1a-e288de66db11",
   "metadata": {
    "tags": []
   },
   "outputs": [],
   "source": [
    "# dividir train / test para variables independientes (x)  y dependiente (y)\n",
    "xtrain, xtest, ytrain, ytest = train_test_split(xvars, yvar, train_size = 0.80, random_state = 2)"
   ]
  },
  {
   "cell_type": "code",
   "execution_count": 33,
   "id": "7e4a92c3-640c-42cf-a131-454d77713ad7",
   "metadata": {
    "tags": []
   },
   "outputs": [],
   "source": [
    "# crear matrices de xgboost\n",
    "\n",
    "trainXGB = xgboost.DMatrix(data=xtrain,\n",
    "                           label=ytrain)\n",
    "\n",
    "testXGB = xgboost.DMatrix(data=xtest,\n",
    "                          label=ytest)"
   ]
  },
  {
   "cell_type": "code",
   "execution_count": 93,
   "id": "890024d7-9c04-45ab-8710-012822419c6f",
   "metadata": {
    "tags": []
   },
   "outputs": [],
   "source": [
    "def findXGB(trainXGB,\n",
    "           testXGB,\n",
    "           iters):\n",
    "\n",
    "    best_metric = 0\n",
    "    best_params = {}\n",
    "\n",
    "    for iteration in range(iters):\n",
    "\n",
    "        params = {\n",
    "                'tree_method' : 'exact',\n",
    "                'booster' : 'gbtree', # 'gblinear'\n",
    "                'eta' : random.uniform(0.01, 0.3),\n",
    "                'max_depth' : random.randint(5,14),\n",
    "                'reg_lambda' : random.uniform(0.01, 0.4),\n",
    "                'reg_alpha' : random.uniform(0.01, 0.4),\n",
    "                'gamma' : random.randint(0, 20),\n",
    "                'subsample' : random.uniform(0.5, 1),\n",
    "                'colsample_bytree' : random.uniform(0.5, 1),\n",
    "                'objective' : 'binary:logistic',\n",
    "                'eval_metric' : 'auc'\n",
    "            }\n",
    "\n",
    "        xgb_cv = xgboost.cv(\n",
    "            params = params, \n",
    "            dtrain = trainXGB, \n",
    "               nfold=10,\n",
    "               metrics={'auc'}, \n",
    "               seed=0,\n",
    "               callbacks=[xgboost.callback.EvaluationMonitor(show_stdv=True),\n",
    "                          xgboost.callback.EarlyStopping(2)])\n",
    "\n",
    "        auc = xgb_cv.iloc[-1,2]\n",
    "\n",
    "        if auc > best_metric:\n",
    "\n",
    "            best_metric = auc\n",
    "            best_params = params\n",
    "\n",
    "    final_model = xgboost.XGBClassifier( \n",
    "        eval_metric='auc',\n",
    "        early_stopping_rounds=2,\n",
    "        n_estimators=1000000)\n",
    "\n",
    "    final_model.set_params(**best_params)\n",
    "\n",
    "    final_model.fit(\n",
    "        X=xtrain,\n",
    "        y=ytrain,\n",
    "        eval_set = [(xtrain, ytrain)]\n",
    "    )\n",
    "    \n",
    "    return final_model"
   ]
  },
  {
   "cell_type": "code",
   "execution_count": null,
   "id": "419f166d-3700-421b-86ae-bcf1ccf2d29b",
   "metadata": {
    "tags": []
   },
   "outputs": [],
   "source": [
    "findXGB(trainXGB, testXGB, iters=10)"
   ]
  }
 ],
 "metadata": {
  "kernelspec": {
   "display_name": "Python 3 (ipykernel)",
   "language": "python",
   "name": "python3"
  },
  "language_info": {
   "codemirror_mode": {
    "name": "ipython",
    "version": 3
   },
   "file_extension": ".py",
   "mimetype": "text/x-python",
   "name": "python",
   "nbconvert_exporter": "python",
   "pygments_lexer": "ipython3",
   "version": "3.11.2"
  }
 },
 "nbformat": 4,
 "nbformat_minor": 5
}
